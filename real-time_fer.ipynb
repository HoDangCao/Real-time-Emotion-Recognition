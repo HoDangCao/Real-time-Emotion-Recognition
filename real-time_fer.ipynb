{
 "cells": [
  {
   "cell_type": "markdown",
   "metadata": {},
   "source": [
    "# Real-Time Facial Expression Recognition"
   ]
  },
  {
   "cell_type": "markdown",
   "metadata": {},
   "source": [
    "## Libs"
   ]
  },
  {
   "cell_type": "code",
   "execution_count": null,
   "metadata": {},
   "outputs": [],
   "source": [
    "import pandas as pd\n",
    "import numpy as np\n",
    "import matplotlib.pyplot as plt\n",
    "import seaborn as sns\n",
    "import keras\n",
    "from keras.models import Model, load_model\n",
    "from keras.layers import Dense, Dropout, Flatten, Normalization\n",
    "from keras.layers import Conv2D, MaxPooling2D, Reshape\n",
    "from keras.utils import to_categorical\n",
    "from sklearn.metrics import confusion_matrix\n",
    "from keras.preprocessing import image\n",
    "from sklearn.metrics import f1_score\n",
    "import cv2"
   ]
  },
  {
   "cell_type": "markdown",
   "metadata": {},
   "source": [
    "## Read dataset"
   ]
  },
  {
   "cell_type": "markdown",
   "metadata": {},
   "source": [
    "Data are get from [link](https://drive.google.com/file/d/18yZyj5qqg8-UHlheqmCMM4wf9KOdV42T/view)"
   ]
  },
  {
   "cell_type": "code",
   "execution_count": 8,
   "metadata": {},
   "outputs": [
    {
     "data": {
      "text/html": [
       "<div>\n",
       "<style scoped>\n",
       "    .dataframe tbody tr th:only-of-type {\n",
       "        vertical-align: middle;\n",
       "    }\n",
       "\n",
       "    .dataframe tbody tr th {\n",
       "        vertical-align: top;\n",
       "    }\n",
       "\n",
       "    .dataframe thead th {\n",
       "        text-align: right;\n",
       "    }\n",
       "</style>\n",
       "<table border=\"1\" class=\"dataframe\">\n",
       "  <thead>\n",
       "    <tr style=\"text-align: right;\">\n",
       "      <th></th>\n",
       "      <th>emotion</th>\n",
       "      <th>pixels</th>\n",
       "      <th>Usage</th>\n",
       "    </tr>\n",
       "  </thead>\n",
       "  <tbody>\n",
       "    <tr>\n",
       "      <th>0</th>\n",
       "      <td>0</td>\n",
       "      <td>70 80 82 72 58 58 60 63 54 58 60 48 89 115 121...</td>\n",
       "      <td>Training</td>\n",
       "    </tr>\n",
       "    <tr>\n",
       "      <th>1</th>\n",
       "      <td>0</td>\n",
       "      <td>151 150 147 155 148 133 111 140 170 174 182 15...</td>\n",
       "      <td>Training</td>\n",
       "    </tr>\n",
       "    <tr>\n",
       "      <th>2</th>\n",
       "      <td>2</td>\n",
       "      <td>231 212 156 164 174 138 161 173 182 200 106 38...</td>\n",
       "      <td>Training</td>\n",
       "    </tr>\n",
       "    <tr>\n",
       "      <th>3</th>\n",
       "      <td>4</td>\n",
       "      <td>24 32 36 30 32 23 19 20 30 41 21 22 32 34 21 1...</td>\n",
       "      <td>Training</td>\n",
       "    </tr>\n",
       "    <tr>\n",
       "      <th>4</th>\n",
       "      <td>6</td>\n",
       "      <td>4 0 0 0 0 0 0 0 0 0 0 0 3 15 23 28 48 50 58 84...</td>\n",
       "      <td>Training</td>\n",
       "    </tr>\n",
       "  </tbody>\n",
       "</table>\n",
       "</div>"
      ],
      "text/plain": [
       "   emotion                                             pixels     Usage\n",
       "0        0  70 80 82 72 58 58 60 63 54 58 60 48 89 115 121...  Training\n",
       "1        0  151 150 147 155 148 133 111 140 170 174 182 15...  Training\n",
       "2        2  231 212 156 164 174 138 161 173 182 200 106 38...  Training\n",
       "3        4  24 32 36 30 32 23 19 20 30 41 21 22 32 34 21 1...  Training\n",
       "4        6  4 0 0 0 0 0 0 0 0 0 0 0 3 15 23 28 48 50 58 84...  Training"
      ]
     },
     "execution_count": 8,
     "metadata": {},
     "output_type": "execute_result"
    }
   ],
   "source": [
    "df = pd.read_csv('./data/fer2013.csv')\n",
    "df.head()"
   ]
  },
  {
   "cell_type": "code",
   "execution_count": 9,
   "metadata": {},
   "outputs": [
    {
     "name": "stdout",
     "output_type": "stream",
     "text": [
      "<class 'pandas.core.frame.DataFrame'>\n",
      "RangeIndex: 35887 entries, 0 to 35886\n",
      "Data columns (total 3 columns):\n",
      " #   Column   Non-Null Count  Dtype \n",
      "---  ------   --------------  ----- \n",
      " 0   emotion  35887 non-null  int64 \n",
      " 1   pixels   35887 non-null  object\n",
      " 2   Usage    35887 non-null  object\n",
      "dtypes: int64(1), object(2)\n",
      "memory usage: 841.2+ KB\n",
      "None\n"
     ]
    }
   ],
   "source": [
    "print(df.info())"
   ]
  },
  {
   "cell_type": "code",
   "execution_count": 10,
   "metadata": {},
   "outputs": [
    {
     "data": {
      "text/html": [
       "<div>\n",
       "<style scoped>\n",
       "    .dataframe tbody tr th:only-of-type {\n",
       "        vertical-align: middle;\n",
       "    }\n",
       "\n",
       "    .dataframe tbody tr th {\n",
       "        vertical-align: top;\n",
       "    }\n",
       "\n",
       "    .dataframe thead th {\n",
       "        text-align: right;\n",
       "    }\n",
       "</style>\n",
       "<table border=\"1\" class=\"dataframe\">\n",
       "  <thead>\n",
       "    <tr style=\"text-align: right;\">\n",
       "      <th></th>\n",
       "      <th>emotion</th>\n",
       "      <th>pixels</th>\n",
       "      <th>Usage</th>\n",
       "    </tr>\n",
       "  </thead>\n",
       "  <tbody>\n",
       "    <tr>\n",
       "      <th>0</th>\n",
       "      <td>0</td>\n",
       "      <td>[70, 80, 82, 72, 58, 58, 60, 63, 54, 58, 60, 4...</td>\n",
       "      <td>Training</td>\n",
       "    </tr>\n",
       "    <tr>\n",
       "      <th>1</th>\n",
       "      <td>0</td>\n",
       "      <td>[151, 150, 147, 155, 148, 133, 111, 140, 170, ...</td>\n",
       "      <td>Training</td>\n",
       "    </tr>\n",
       "    <tr>\n",
       "      <th>2</th>\n",
       "      <td>2</td>\n",
       "      <td>[231, 212, 156, 164, 174, 138, 161, 173, 182, ...</td>\n",
       "      <td>Training</td>\n",
       "    </tr>\n",
       "    <tr>\n",
       "      <th>3</th>\n",
       "      <td>4</td>\n",
       "      <td>[24, 32, 36, 30, 32, 23, 19, 20, 30, 41, 21, 2...</td>\n",
       "      <td>Training</td>\n",
       "    </tr>\n",
       "    <tr>\n",
       "      <th>4</th>\n",
       "      <td>6</td>\n",
       "      <td>[4, 0, 0, 0, 0, 0, 0, 0, 0, 0, 0, 0, 3, 15, 23...</td>\n",
       "      <td>Training</td>\n",
       "    </tr>\n",
       "  </tbody>\n",
       "</table>\n",
       "</div>"
      ],
      "text/plain": [
       "   emotion                                             pixels     Usage\n",
       "0        0  [70, 80, 82, 72, 58, 58, 60, 63, 54, 58, 60, 4...  Training\n",
       "1        0  [151, 150, 147, 155, 148, 133, 111, 140, 170, ...  Training\n",
       "2        2  [231, 212, 156, 164, 174, 138, 161, 173, 182, ...  Training\n",
       "3        4  [24, 32, 36, 30, 32, 23, 19, 20, 30, 41, 21, 2...  Training\n",
       "4        6  [4, 0, 0, 0, 0, 0, 0, 0, 0, 0, 0, 0, 3, 15, 23...  Training"
      ]
     },
     "execution_count": 10,
     "metadata": {},
     "output_type": "execute_result"
    }
   ],
   "source": [
    "df['pixels'] = df['pixels'].str.split(' ')\n",
    "df.head()"
   ]
  },
  {
   "cell_type": "code",
   "execution_count": 43,
   "metadata": {},
   "outputs": [],
   "source": [
    "class Dataset:\n",
    "    def __init__(self, df):\n",
    "        train = df[df['Usage'] == 'Training']\n",
    "        val = df[df['Usage'] == 'PublicTest']\n",
    "        test = df[df['Usage'] == 'PrivateTest']\n",
    "\n",
    "        self.train_x, self.train_y = np.vstack(train['pixels']).astype('float'), train['emotion']\n",
    "        self.val_x, self.val_y = np.vstack(val['pixels']).astype('float'), val['emotion']\n",
    "        self.test_x, self.test_y = np.vstack(test['pixels']).astype('float'), test['emotion']\n",
    "\n",
    "        self.num_labels = len(df['emotion'].unique())\n",
    "        self.width, self.height = 48, 48\n",
    "\n",
    "        self.train_y_onehot = to_categorical(self.train_y, num_classes=self.num_labels)\n",
    "        self.val_y_onehot = to_categorical(self.val_y, num_classes=self.num_labels)\n",
    "        self.test_y_onehot = to_categorical(self.test_y, num_classes=self.num_labels)\n",
    "\n",
    "    def normalization(self):\n",
    "        self.normalization_layer = Normalization()\n",
    "        self.normalization_layer.adapt(self.train_x)\n",
    "\n",
    "        self.normalized_train_x = self.normalization_layer(self.train_x)\n",
    "        self.normalized_val_x = self.normalization_layer(self.val_x)\n",
    "        self.normalized_test_x = self.normalization_layer(self.test_x)\n",
    "        \n",
    "dataset = Dataset(df)\n",
    "dataset.normalization()"
   ]
  },
  {
   "cell_type": "markdown",
   "metadata": {},
   "source": [
    "## Build model"
   ]
  },
  {
   "cell_type": "code",
   "execution_count": 63,
   "metadata": {},
   "outputs": [],
   "source": [
    "@keras.saving.register_keras_serializable()\n",
    "class CNN(Model):\n",
    "    def __init__(self):\n",
    "        super(CNN, self).__init__()\n",
    "        self.reshape = Reshape((dataset.height, dataset.width, 1)) # Reshaping flattened input\n",
    "        \n",
    "        # 1st Convolution Layer\n",
    "        self.conv1 = Conv2D(64, kernel_size=(3, 3), activation='relu')\n",
    "        self.conv2 = Conv2D(64, kernel_size=(3, 3), activation='relu')\n",
    "        self.pool1 = MaxPooling2D(pool_size=(2, 2), strides=(2, 2))\n",
    "        self.drop1 = Dropout(0.5)\n",
    "        \n",
    "        # 2nd Convolution Layer\n",
    "        self.conv3 = Conv2D(64, (3, 3), activation='relu')\n",
    "        self.conv4 = Conv2D(64, (3, 3), activation='relu')\n",
    "        self.pool2 = MaxPooling2D(pool_size=(2, 2), strides=(2, 2))\n",
    "        self.drop2 = Dropout(0.5)\n",
    "\n",
    "        # 3rd Convolution Layer (adjusted to control spatial size reduction)\n",
    "        self.conv5 = Conv2D(128, (3, 3), activation='relu')\n",
    "        self.conv6 = Conv2D(128, (3, 3), activation='relu')\n",
    "        self.pool3 = MaxPooling2D(pool_size=(2, 2), strides=(2, 2))  # Final pooling layer\n",
    "\n",
    "        # Flatten and fully connected layers\n",
    "        self.flatten = Flatten()\n",
    "        self.fc1 = Dense(1024, activation='relu')\n",
    "        self.drop3 = Dropout(0.2)\n",
    "        self.fc2 = Dense(1024, activation='relu')\n",
    "        self.drop4 = Dropout(0.2)\n",
    "        self.output_layer = Dense(dataset.num_labels, activation='softmax')\n",
    "\n",
    "    def call(self, inputs):\n",
    "        x = self.reshape(inputs)\n",
    "        \n",
    "        # 1st Convolution Layer\n",
    "        x = self.conv1(x)\n",
    "        x = self.conv2(x)\n",
    "        x = self.pool1(x)\n",
    "        x = self.drop1(x)\n",
    "        \n",
    "        # 2nd Convolution Layer\n",
    "        x = self.conv3(x)\n",
    "        x = self.conv4(x)\n",
    "        x = self.pool2(x)\n",
    "        x = self.drop2(x)\n",
    "\n",
    "        # 3rd Convolution Layer (adjusted pool size)\n",
    "        x = self.conv5(x)\n",
    "        x = self.conv6(x)\n",
    "        x = self.pool3(x)\n",
    "\n",
    "        # Flatten and fully connected layers\n",
    "        x = self.flatten(x)\n",
    "        x = self.fc1(x)\n",
    "        x = self.drop3(x)\n",
    "        x = self.fc2(x)\n",
    "        x = self.drop4(x)\n",
    "\n",
    "        return self.output_layer(x)\n",
    "    \n",
    "    def get_config(self):\n",
    "        # Return configuration for recreating the model\n",
    "        config = super(CNN, self).get_config()\n",
    "        return config\n",
    "\n",
    "    @classmethod\n",
    "    def from_config(cls, config):\n",
    "        return cls()  # Call the constructor without additional parameters\n",
    "\n",
    "model = CNN()\n",
    "model.compile(optimizer='adam', loss='categorical_crossentropy', metrics=['accuracy'])"
   ]
  },
  {
   "cell_type": "code",
   "execution_count": 77,
   "metadata": {},
   "outputs": [
    {
     "name": "stdout",
     "output_type": "stream",
     "text": [
      "Epoch 1/3\n",
      "\u001b[1m449/449\u001b[0m \u001b[32m━━━━━━━━━━━━━━━━━━━━\u001b[0m\u001b[37m\u001b[0m \u001b[1m80s\u001b[0m 176ms/step - accuracy: 0.4894 - loss: 1.3282 - val_accuracy: 0.5060 - val_loss: 1.2835\n",
      "Epoch 2/3\n",
      "\u001b[1m449/449\u001b[0m \u001b[32m━━━━━━━━━━━━━━━━━━━━\u001b[0m\u001b[37m\u001b[0m \u001b[1m113s\u001b[0m 252ms/step - accuracy: 0.5356 - loss: 1.2047 - val_accuracy: 0.5274 - val_loss: 1.2406\n",
      "Epoch 3/3\n",
      "\u001b[1m449/449\u001b[0m \u001b[32m━━━━━━━━━━━━━━━━━━━━\u001b[0m\u001b[37m\u001b[0m \u001b[1m112s\u001b[0m 250ms/step - accuracy: 0.5738 - loss: 1.1145 - val_accuracy: 0.5372 - val_loss: 1.2145\n"
     ]
    }
   ],
   "source": [
    "history = model.fit(dataset.normalized_train_x, dataset.train_y_onehot, epochs=3, batch_size=64, validation_data=(dataset.normalized_val_x, dataset.val_y_onehot), shuffle=True)"
   ]
  },
  {
   "cell_type": "markdown",
   "metadata": {},
   "source": [
    "## Inference"
   ]
  },
  {
   "cell_type": "code",
   "execution_count": 78,
   "metadata": {},
   "outputs": [],
   "source": [
    "def predict_img(x, model=model, size=(dataset.height, dataset.width), verbose=False):\n",
    "    if verbose:\n",
    "        x = cv2.resize(x, (dataset.height, dataset.width))\n",
    "        plt.figure(figsize=(4, 3))\n",
    "        plt.imshow(x)\n",
    "        plt.show()\n",
    "    x /= 255\n",
    "    x = x.reshape(-1, size[0]*size[1])\n",
    "    pred_prob = model.predict(x, verbose=0)\n",
    "    return pred_prob, np.argmax(pred_prob, axis=1)\n",
    "\n",
    "def predict_from_path(path, model=model, size=(dataset.height, dataset.width), verbose=False):\n",
    "    img = image.load_img(path, color_mode='grayscale', target_size=size)\n",
    "    x = image.img_to_array(img)\n",
    "    return predict_img(x, model, size, verbose)"
   ]
  },
  {
   "cell_type": "code",
   "execution_count": 79,
   "metadata": {},
   "outputs": [
    {
     "data": {
      "text/plain": [
       "(array([[0.09224502, 0.00162508, 0.14110513, 0.11100801, 0.24294762,\n",
       "         0.03553294, 0.3755362 ],\n",
       "        [0.09224503, 0.00162508, 0.14110515, 0.11100802, 0.24294764,\n",
       "         0.03553295, 0.3755362 ]], dtype=float32),\n",
       " array([6, 6], dtype=int64))"
      ]
     },
     "execution_count": 79,
     "metadata": {},
     "output_type": "execute_result"
    }
   ],
   "source": [
    "predict_img(dataset.train_x[0:2,:])"
   ]
  },
  {
   "cell_type": "markdown",
   "metadata": {},
   "source": [
    "## Save model"
   ]
  },
  {
   "cell_type": "code",
   "execution_count": 80,
   "metadata": {},
   "outputs": [],
   "source": [
    "model.save('models/cnn.keras')\n",
    "model = load_model('models/cnn.keras')"
   ]
  },
  {
   "cell_type": "markdown",
   "metadata": {},
   "source": [
    "## Evaluate model"
   ]
  },
  {
   "cell_type": "code",
   "execution_count": 81,
   "metadata": {},
   "outputs": [
    {
     "name": "stdout",
     "output_type": "stream",
     "text": [
      "Train loss: 2.036994218826294\n",
      "Train accuracy: 17.294228076934814\n",
      "Train f1-score: 0.05099830341730841\n",
      "Test loss: 2.042632818222046\n",
      "Test accuracy: 17.442184686660767\n",
      "Test f1-score: 0.05180928810088292\n"
     ]
    }
   ],
   "source": [
    "train_score = model.evaluate(dataset.train_x, dataset.train_y_onehot, verbose=0)\n",
    "print('Train loss:', train_score[0])\n",
    "print('Train accuracy:', 100*train_score[1])\n",
    "\n",
    "y_pred_classes = predict_img(dataset.train_x)[1]\n",
    "print('Train f1-score:', f1_score(dataset.train_y, y_pred_classes, average='weighted'))\n",
    "\n",
    "test_score = model.evaluate(dataset.test_x, dataset.test_y_onehot, verbose=0)\n",
    "print('Test loss:', test_score[0])\n",
    "print('Test accuracy:', 100*test_score[1])\n",
    "\n",
    "y_pred_classes = predict_img(dataset.test_x)[1]\n",
    "print('Test f1-score:', f1_score(dataset.test_y, y_pred_classes, average='weighted'))"
   ]
  },
  {
   "cell_type": "markdown",
   "metadata": {},
   "source": [
    "## Confusion Matrix"
   ]
  },
  {
   "cell_type": "code",
   "execution_count": 82,
   "metadata": {},
   "outputs": [
    {
     "data": {
      "image/png": "[encoded data removed]",
      "text/plain": [
       "<Figure size 400x300 with 2 Axes>"
      ]
     },
     "metadata": {},
     "output_type": "display_data"
    }
   ],
   "source": [
    "cm = confusion_matrix(dataset.test_y, y_pred_classes)\n",
    "plt.figure(figsize=(4, 3))\n",
    "sns.heatmap(cm, annot=True, fmt='d', cmap='Blues')\n",
    "plt.title('Confusion Matrix')\n",
    "plt.xlabel('Predicted label')\n",
    "plt.ylabel('True label')\n",
    "plt.show()"
   ]
  },
  {
   "cell_type": "markdown",
   "metadata": {},
   "source": [
    "## Testing"
   ]
  },
  {
   "cell_type": "code",
   "execution_count": 83,
   "metadata": {},
   "outputs": [
    {
     "data": {
      "image/png": "[encoded data removed]",
      "text/plain": [
       "<Figure size 400x300 with 1 Axes>"
      ]
     },
     "metadata": {},
     "output_type": "display_data"
    },
    {
     "data": {
      "text/plain": [
       "array([[0.10456039, 0.00778937, 0.23144884, 0.05161777, 0.22213708,\n",
       "        0.11063471, 0.27181172]], dtype=float32)"
      ]
     },
     "execution_count": 83,
     "metadata": {},
     "output_type": "execute_result"
    }
   ],
   "source": [
    "path = 'data/sad.jpg'\n",
    "custom = predict_from_path(path, verbose=True)[0]\n",
    "custom"
   ]
  },
  {
   "cell_type": "code",
   "execution_count": 84,
   "metadata": {},
   "outputs": [
    {
     "data": {
      "image/png": "[encoded data removed]",
      "text/plain": [
       "<Figure size 800x600 with 1 Axes>"
      ]
     },
     "metadata": {},
     "output_type": "display_data"
    }
   ],
   "source": [
    "def emotion_analysis(emotions):\n",
    "    objects = ('angry', 'disgust', 'fear', 'happy', 'sad', 'surprise', 'neutral')\n",
    "    y_pos = np.arange(len(objects))\n",
    "    plt.figure(figsize=(8, 6))\n",
    "    plt.bar(y_pos, emotions, align='center', alpha=0.5)\n",
    "    plt.xticks(y_pos, objects)\n",
    "    plt.ylabel('percentage')\n",
    "    plt.title('emotion')\n",
    "    plt.show()\n",
    "    \n",
    "emotion_analysis(custom[0])"
   ]
  },
  {
   "cell_type": "markdown",
   "metadata": {},
   "source": [
    "## Detecting Real-Time Emotion"
   ]
  },
  {
   "cell_type": "code",
   "execution_count": 86,
   "metadata": {},
   "outputs": [
    {
     "name": "stderr",
     "output_type": "stream",
     "text": [
      "WARNING:tensorflow:From C:\\Users\\dangc\\AppData\\Local\\Programs\\Python\\Python311\\Lib\\site-packages\\keras\\src\\backend\\tensorflow\\core.py:204: The name tf.placeholder is deprecated. Please use tf.compat.v1.placeholder instead.\n",
      "\n"
     ]
    }
   ],
   "source": [
    "!py real-time_reg.py"
   ]
  },
  {
   "cell_type": "markdown",
   "metadata": {},
   "source": [
    "# Refernce"
   ]
  },
  {
   "cell_type": "markdown",
   "metadata": {},
   "source": [
    "[Building a Real Time Emotion Detection with Python](https://medium.com/@Coursesteach/building-a-real-time-emotion-detection-with-python-7fe6090a125d)"
   ]
  }
 ],
 "metadata": {
  "kernelspec": {
   "display_name": "Python 3",
   "language": "python",
   "name": "python3"
  },
  "language_info": {
   "codemirror_mode": {
    "name": "ipython",
    "version": 3
   },
   "file_extension": ".py",
   "mimetype": "text/x-python",
   "name": "python",
   "nbconvert_exporter": "python",
   "pygments_lexer": "ipython3",
   "version": "3.11.9"
  }
 },
 "nbformat": 4,
 "nbformat_minor": 2
}
